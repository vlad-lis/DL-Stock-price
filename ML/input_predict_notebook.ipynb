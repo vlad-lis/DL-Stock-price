{
 "cells": [
  {
   "cell_type": "code",
   "execution_count": 1,
   "id": "9408074b",
   "metadata": {},
   "outputs": [],
   "source": [
    "import pandas as pd\n",
    "import joblib"
   ]
  },
  {
   "cell_type": "code",
   "execution_count": 2,
   "id": "c803162a",
   "metadata": {},
   "outputs": [],
   "source": [
    "model_combined = joblib.load('./models/saved_models/model_combined.joblib')\n",
    "model_inside = joblib.load('./models/saved_models/model_inside.joblib')\n",
    "model_outside = joblib.load('./models/saved_models/model_outside.joblib')\n",
    "model_cyber = joblib.load('./models/saved_models/model_cyber.joblib')"
   ]
  },
  {
   "cell_type": "code",
   "execution_count": 3,
   "id": "6a5cbcfe",
   "metadata": {},
   "outputs": [],
   "source": [
    "#input template  (done once, saved to csv)\n",
    "\n",
    "# data = pd.read_csv('./data/cleaning_step2.csv')\n",
    "# X_template = data.drop(['bullied_in_school', 'bullied_outside_school', 'cyberbullied'], axis=1)\n",
    "\n",
    "# input_template = X_template.iloc[:1].copy()\n",
    "# input_template = pd.DataFrame(input_template)\n",
    "# input_template.iloc[:] = 0\n",
    "# input_template.to_csv('input_template.csv', index=False)\n"
   ]
  },
  {
   "cell_type": "code",
   "execution_count": 4,
   "id": "a16951b7",
   "metadata": {},
   "outputs": [],
   "source": [
    "#no input validation\n",
    "\n",
    "def input_and_predict():\n",
    "    #template to insert into model\n",
    "    input_template = pd.read_csv('./data/input_template.csv')\n",
    "    \n",
    "    #inputs\n",
    "    age = input('enter age (11-18): ')\n",
    "    sex = input('enter sex (0-Male, 1-Female): ')\n",
    "    attacked = input('was physically attacked (how many times, 0-7): ')\n",
    "    fighting = input('was involved in physical fighting (how many times, 0-7): ')\n",
    "    lonely = input('felt lonely (scale 0-4): ')\n",
    "    friends = input('has friends (0-3): ')\n",
    "    absence = input('missed classes without permission (how many times, 0-4): ')\n",
    "    student_compassion = input('finds other students kind and helpful (scale 0-4): ')\n",
    "    parent_compassion = input('finds parents understanding (scale 0-4): ')\n",
    "    underweight = input('was underweight (0/1): ')\n",
    "    overweight = input('was overweight (0/1): ')\n",
    "    obese = input('was diagnosed with obesity (0/1): ')\n",
    "    \n",
    "    #insert inputs into template\n",
    "    input_template.at[0, 'age'] = int(age)\n",
    "    input_template.at[0, 'sex'] = int(sex)\n",
    "    input_template.at[0, 'physically_attacked'] = int(attacked)\n",
    "    input_template.at[0, 'physical_fighting'] = int(fighting)\n",
    "    input_template.at[0, 'felt_lonely'] = int(lonely)\n",
    "    input_template.at[0, 'close_friends'] = int(friends)\n",
    "    input_template.at[0, 'miss_school_no_permission'] = int(absence)\n",
    "    input_template.at[0, 'other_students_kind_and_helpful'] = int(student_compassion)\n",
    "    input_template.at[0, 'parents_understand_problems'] = int(parent_compassion)\n",
    "    input_template.at[0, 'were_underweight'] = int(underweight)\n",
    "    input_template.at[0, 'were_overweight'] = int(overweight)\n",
    "    input_template.at[0, 'were_obese'] = int(obese)\n",
    "    \n",
    "    #predictions\n",
    "    combined = model_combined.predict_proba(input_template)\n",
    "    inside = model_inside.predict_proba(input_template)\n",
    "    outside = model_outside.predict_proba(input_template)\n",
    "    cyber = model_cyber.predict_proba(input_template)\n",
    "    \n",
    "    #get probability of \"1\" and round up result\n",
    "    combined = round(combined[0][1]*100, 1)\n",
    "    inside = round(inside[0][1]*100, 1)\n",
    "    outside = round(outside[0][1]*100, 1)\n",
    "    cyber = round(cyber[0][1]*100, 1)\n",
    "    \n",
    "#     binary_combined = model_combined.predict(input_template)\n",
    "#     binary_inside = model_inside.predict(input_template)\n",
    "#     binary_outside = model_outside.predict(input_template)\n",
    "#     binary_cyber = model_cyber.predict(input_template)\n",
    "    \n",
    "#     print(combined, inside, outside, cyber)\n",
    "#     print(binary_combined, binary_inside, binary_outside, binary_cyber)\n",
    "\n",
    "    print('*'*100)\n",
    "    print(f'overall probability of being bullied: {combined}%')\n",
    "    print(f'probability of being bullied in school: {inside}%')\n",
    "    print(f'probability of being bullied outside school: {outside}%')\n",
    "    print(f'probability of being cyberbullied: {cyber}%')\n",
    "    \n",
    "    output = {'overall': combined,\n",
    "             'inside': inside,\n",
    "             'outside': outside,\n",
    "             'cyber': cyber}\n",
    "    \n",
    "    return output"
   ]
  },
  {
   "cell_type": "code",
   "execution_count": 5,
   "id": "88a3e7e3",
   "metadata": {},
   "outputs": [
    {
     "name": "stdout",
     "output_type": "stream",
     "text": [
      "enter age (11-18): 15\n",
      "enter sex (0-Male, 1-Female): 0\n",
      "was physically attacked (how many times, 0-7): 2\n",
      "was involved in physical fighting (how many times, 0-7): 1\n",
      "felt lonely (scale 0-4): 2\n",
      "has friends (0-3): 1\n",
      "missed classes without permission (how many times, 0-4): 0\n",
      "finds other students kind and helpful (scale 0-4): 2\n",
      "finds parents understanding (scale 0-4): 2\n",
      "was underweight (0/1): 0\n",
      "was overweight (0/1): 0\n",
      "was diagnosed with obesity (0/1): 0\n",
      "****************************************************************************************************\n",
      "overall probability of being bullied: 66.2%\n",
      "probability of being bullied in school: 73.3%\n",
      "probability of being bullied outside school: 62.2%\n",
      "probability of being cyberbullied: 51.9%\n"
     ]
    },
    {
     "data": {
      "text/plain": [
       "{'overall': 66.2, 'inside': 73.3, 'outside': 62.2, 'cyber': 51.9}"
      ]
     },
     "execution_count": 5,
     "metadata": {},
     "output_type": "execute_result"
    }
   ],
   "source": [
    "input_and_predict()"
   ]
  }
 ],
 "metadata": {
  "kernelspec": {
   "display_name": "Python 3 (ipykernel)",
   "language": "python",
   "name": "python3"
  },
  "language_info": {
   "codemirror_mode": {
    "name": "ipython",
    "version": 3
   },
   "file_extension": ".py",
   "mimetype": "text/x-python",
   "name": "python",
   "nbconvert_exporter": "python",
   "pygments_lexer": "ipython3",
   "version": "3.9.13"
  }
 },
 "nbformat": 4,
 "nbformat_minor": 5
}
